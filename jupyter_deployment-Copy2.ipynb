{
 "cells": [
  {
   "cell_type": "code",
   "execution_count": 1,
   "id": "b3df10bb",
   "metadata": {},
   "outputs": [
    {
     "name": "stdout",
     "output_type": "stream",
     "text": [
      "/Users/trinity/Documents/GitHub/Work/CompuCell3D-workspace/CompuCell3D/cc3d/cpp/CompuCell3DSteppables/\n",
      "/Users/trinity/Documents/GitHub/Work/CompuCell3D-workspace/CompuCell3D/cc3d/cpp/CompuCell3DPlugins/\n",
      "FOUND THE FOLLOWING PROBLEMATIC SETTINGS:  ['PlayerSizes', 'PlayerSizesDefault', 'PlayerSizesFloating', 'PlayerSizesFloatingDefault']\n",
      "Initialized service manager <simservice.managers._ServiceManagerLocal object at 0x7f7800c6c110>\n"
     ]
    }
   ],
   "source": [
    "CC3D_SOURCE = r\"/Users/trinity/Documents/GitHub/Work/CompuCell3D-workspace/CompuCell3D\"\n",
    "\n",
    "import sys\n",
    "from os.path import join\n",
    "\n",
    "# Patching environment; fixed in v4.3.0\n",
    "sys.path.append(CC3D_SOURCE)\n",
    "\n",
    "# Patching missing simservice in dependencies\n",
    "# sys.path.append(r'C:\\Users\\T.J\\PycharmProjects')\n",
    "\n",
    "from cc3d import CompuCellSetup\n",
    "from cc3d.core.PySteppables import SteppableBasePy\n",
    "from cc3d.CompuCellSetup.CC3DCaller import CC3DSimService"
   ]
  },
  {
   "cell_type": "code",
   "execution_count": 4,
   "id": "436da823",
   "metadata": {},
   "outputs": [],
   "source": [
    "source_dir = CC3D_SOURCE + '/CompuCell3D/core/Demos/bacterium_macrophage_new_style'\n",
    "simulation_fname = join(source_dir, 'bacterium_macrophage_2D_steering.cc3d')\n",
    "root_output_folder = join(source_dir, 'Output')\n",
    "output_frequency = None\n",
    "steps = 1000"
   ]
  },
  {
   "cell_type": "code",
   "execution_count": 5,
   "id": "270ae1f6",
   "metadata": {
    "scrolled": true
   },
   "outputs": [
    {
     "name": "stdout",
     "output_type": "stream",
     "text": [
      "<cc3d.core.CC3DSimulationDataHandler.CC3DSimulationData object at 0x7f7800f58450>\n"
     ]
    },
    {
     "name": "stderr",
     "output_type": "stream",
     "text": [
      "initialize plugin fcn\n",
      "steppablePath=/Users/trinity/Documents/GitHub/Work/CompuCell3D-workspace/CompuCell3D/cc3d/cpp/CompuCell3DSteppables/\n",
      "loading /Users/trinity/Documents/GitHub/Work/CompuCell3D-workspace/CompuCell3D/cc3d/cpp/CompuCell3DSteppables//libCC3DBiasVectorSteppable.dylib\n",
      "loaded /Users/trinity/Documents/GitHub/Work/CompuCell3D-workspace/CompuCell3D/cc3d/cpp/CompuCell3DSteppables//libCC3DBiasVectorSteppable.dylib\n",
      "loading /Users/trinity/Documents/GitHub/Work/CompuCell3D-workspace/CompuCell3D/cc3d/cpp/CompuCell3DSteppables//libCC3DBlobFieldInitializer.dylib\n",
      "loaded /Users/trinity/Documents/GitHub/Work/CompuCell3D-workspace/CompuCell3D/cc3d/cpp/CompuCell3DSteppables//libCC3DBlobFieldInitializer.dylib\n",
      "loading /Users/trinity/Documents/GitHub/Work/CompuCell3D-workspace/CompuCell3D/cc3d/cpp/CompuCell3DSteppables//libCC3DBoxWatcher.dylib\n",
      "loaded /Users/trinity/Documents/GitHub/Work/CompuCell3D-workspace/CompuCell3D/cc3d/cpp/CompuCell3DSteppables//libCC3DBoxWatcher.dylib\n",
      "loading /Users/trinity/Documents/GitHub/Work/CompuCell3D-workspace/CompuCell3D/cc3d/cpp/CompuCell3DSteppables//libCC3DCleaverMeshDumper.dylib\n",
      "loaded /Users/trinity/Documents/GitHub/Work/CompuCell3D-workspace/CompuCell3D/cc3d/cpp/CompuCell3DSteppables//libCC3DCleaverMeshDumper.dylib\n",
      "loading /Users/trinity/Documents/GitHub/Work/CompuCell3D-workspace/CompuCell3D/cc3d/cpp/CompuCell3DSteppables//libCC3DDicty.dylib\n",
      "loaded /Users/trinity/Documents/GitHub/Work/CompuCell3D-workspace/CompuCell3D/cc3d/cpp/CompuCell3DSteppables//libCC3DDicty.dylib\n",
      "loading /Users/trinity/Documents/GitHub/Work/CompuCell3D-workspace/CompuCell3D/cc3d/cpp/CompuCell3DSteppables//libCC3DFoamDataOutput.dylib\n",
      "loaded /Users/trinity/Documents/GitHub/Work/CompuCell3D-workspace/CompuCell3D/cc3d/cpp/CompuCell3DSteppables//libCC3DFoamDataOutput.dylib\n",
      "loading /Users/trinity/Documents/GitHub/Work/CompuCell3D-workspace/CompuCell3D/cc3d/cpp/CompuCell3DSteppables//libCC3DMitosisSteppable.dylib\n",
      "loaded /Users/trinity/Documents/GitHub/Work/CompuCell3D-workspace/CompuCell3D/cc3d/cpp/CompuCell3DSteppables//libCC3DMitosisSteppable.dylib\n",
      "loading /Users/trinity/Documents/GitHub/Work/CompuCell3D-workspace/CompuCell3D/cc3d/cpp/CompuCell3DSteppables//libCC3DObjInitializer.dylib\n",
      "loaded /Users/trinity/Documents/GitHub/Work/CompuCell3D-workspace/CompuCell3D/cc3d/cpp/CompuCell3DSteppables//libCC3DObjInitializer.dylib\n",
      "loading /Users/trinity/Documents/GitHub/Work/CompuCell3D-workspace/CompuCell3D/cc3d/cpp/CompuCell3DSteppables//libCC3DPDESolvers.dylib\n",
      "loaded /Users/trinity/Documents/GitHub/Work/CompuCell3D-workspace/CompuCell3D/cc3d/cpp/CompuCell3DSteppables//libCC3DPDESolvers.dylib\n",
      "loading /Users/trinity/Documents/GitHub/Work/CompuCell3D-workspace/CompuCell3D/cc3d/cpp/CompuCell3DSteppables//libCC3DPIFDumper.dylib\n",
      "loaded /Users/trinity/Documents/GitHub/Work/CompuCell3D-workspace/CompuCell3D/cc3d/cpp/CompuCell3DSteppables//libCC3DPIFDumper.dylib\n",
      "loading /Users/trinity/Documents/GitHub/Work/CompuCell3D-workspace/CompuCell3D/cc3d/cpp/CompuCell3DSteppables//libCC3DPIFInitializer.dylib\n",
      "loaded /Users/trinity/Documents/GitHub/Work/CompuCell3D-workspace/CompuCell3D/cc3d/cpp/CompuCell3DSteppables//libCC3DPIFInitializer.dylib\n",
      "loading /Users/trinity/Documents/GitHub/Work/CompuCell3D-workspace/CompuCell3D/cc3d/cpp/CompuCell3DSteppables//libCC3DRandomInitializers.dylib\n",
      "loaded /Users/trinity/Documents/GitHub/Work/CompuCell3D-workspace/CompuCell3D/cc3d/cpp/CompuCell3DSteppables//libCC3DRandomInitializers.dylib\n",
      "loading /Users/trinity/Documents/GitHub/Work/CompuCell3D-workspace/CompuCell3D/cc3d/cpp/CompuCell3DSteppables//libCC3DUniformFieldInitializer.dylib\n",
      "loaded /Users/trinity/Documents/GitHub/Work/CompuCell3D-workspace/CompuCell3D/cc3d/cpp/CompuCell3DSteppables//libCC3DUniformFieldInitializer.dylib\n",
      "loading /Users/trinity/Documents/GitHub/Work/CompuCell3D-workspace/CompuCell3D/cc3d/cpp/CompuCell3DSteppables//libFlexibleDiffusionSolverFE_OpenCL.dylib\n",
      "loaded /Users/trinity/Documents/GitHub/Work/CompuCell3D-workspace/CompuCell3D/cc3d/cpp/CompuCell3DSteppables//libFlexibleDiffusionSolverFE_OpenCL.dylib\n",
      "pluginPath=/Users/trinity/Documents/GitHub/Work/CompuCell3D-workspace/CompuCell3D/cc3d/cpp/CompuCell3DPlugins/\n",
      "THIS IS JUST BEFORE LOADING LIBRARIES\n",
      "loading /Users/trinity/Documents/GitHub/Work/CompuCell3D-workspace/CompuCell3D/cc3d/cpp/CompuCell3DPlugins//libCC3DAdhesionFlex.dylib\n",
      "loaded /Users/trinity/Documents/GitHub/Work/CompuCell3D-workspace/CompuCell3D/cc3d/cpp/CompuCell3DPlugins//libCC3DAdhesionFlex.dylib\n",
      "loading /Users/trinity/Documents/GitHub/Work/CompuCell3D-workspace/CompuCell3D/cc3d/cpp/CompuCell3DPlugins//libCC3DBoundaryMonitor.dylib\n",
      "loaded /Users/trinity/Documents/GitHub/Work/CompuCell3D-workspace/CompuCell3D/cc3d/cpp/CompuCell3DPlugins//libCC3DBoundaryMonitor.dylib\n",
      "loading /Users/trinity/Documents/GitHub/Work/CompuCell3D-workspace/CompuCell3D/cc3d/cpp/CompuCell3DPlugins//libCC3DBoundaryPixelTracker.dylib\n",
      "loaded /Users/trinity/Documents/GitHub/Work/CompuCell3D-workspace/CompuCell3D/cc3d/cpp/CompuCell3DPlugins//libCC3DBoundaryPixelTracker.dylib\n",
      "loading /Users/trinity/Documents/GitHub/Work/CompuCell3D-workspace/CompuCell3D/cc3d/cpp/CompuCell3DPlugins//libCC3DCellOrientation.dylib\n",
      "loaded /Users/trinity/Documents/GitHub/Work/CompuCell3D-workspace/CompuCell3D/cc3d/cpp/CompuCell3DPlugins//libCC3DCellOrientation.dylib\n",
      "loading /Users/trinity/Documents/GitHub/Work/CompuCell3D-workspace/CompuCell3D/cc3d/cpp/CompuCell3DPlugins//libCC3DCellType.dylib\n",
      "loaded /Users/trinity/Documents/GitHub/Work/CompuCell3D-workspace/CompuCell3D/cc3d/cpp/CompuCell3DPlugins//libCC3DCellType.dylib\n",
      "loading /Users/trinity/Documents/GitHub/Work/CompuCell3D-workspace/CompuCell3D/cc3d/cpp/CompuCell3DPlugins//libCC3DCellTypeMonitor.dylib\n",
      "loaded /Users/trinity/Documents/GitHub/Work/CompuCell3D-workspace/CompuCell3D/cc3d/cpp/CompuCell3DPlugins//libCC3DCellTypeMonitor.dylib\n",
      "loading /Users/trinity/Documents/GitHub/Work/CompuCell3D-workspace/CompuCell3D/cc3d/cpp/CompuCell3DPlugins//libCC3DCenterOfMass.dylib\n",
      "loaded /Users/trinity/Documents/GitHub/Work/CompuCell3D-workspace/CompuCell3D/cc3d/cpp/CompuCell3DPlugins//libCC3DCenterOfMass.dylib\n",
      "loading /Users/trinity/Documents/GitHub/Work/CompuCell3D-workspace/CompuCell3D/cc3d/cpp/CompuCell3DPlugins//libCC3DChemotaxis.dylib\n",
      "loaded /Users/trinity/Documents/GitHub/Work/CompuCell3D-workspace/CompuCell3D/cc3d/cpp/CompuCell3DPlugins//libCC3DChemotaxis.dylib\n",
      "loading /Users/trinity/Documents/GitHub/Work/CompuCell3D-workspace/CompuCell3D/cc3d/cpp/CompuCell3DPlugins//libCC3DChemotaxisDicty.dylib\n",
      "loaded /Users/trinity/Documents/GitHub/Work/CompuCell3D-workspace/CompuCell3D/cc3d/cpp/CompuCell3DPlugins//libCC3DChemotaxisDicty.dylib\n",
      "loading /Users/trinity/Documents/GitHub/Work/CompuCell3D-workspace/CompuCell3D/cc3d/cpp/CompuCell3DPlugins//libCC3DChemotaxisSimple.dylib\n",
      "loaded /Users/trinity/Documents/GitHub/Work/CompuCell3D-workspace/CompuCell3D/cc3d/cpp/CompuCell3DPlugins//libCC3DChemotaxisSimple.dylib\n",
      "loading /Users/trinity/Documents/GitHub/Work/CompuCell3D-workspace/CompuCell3D/cc3d/cpp/CompuCell3DPlugins//libCC3DClusterSurface.dylib\n",
      "loaded /Users/trinity/Documents/GitHub/Work/CompuCell3D-workspace/CompuCell3D/cc3d/cpp/CompuCell3DPlugins//libCC3DClusterSurface.dylib\n",
      "loading /Users/trinity/Documents/GitHub/Work/CompuCell3D-workspace/CompuCell3D/cc3d/cpp/CompuCell3DPlugins//libCC3DClusterSurfaceTracker.dylib\n",
      "loaded /Users/trinity/Documents/GitHub/Work/CompuCell3D-workspace/CompuCell3D/cc3d/cpp/CompuCell3DPlugins//libCC3DClusterSurfaceTracker.dylib\n",
      "loading /Users/trinity/Documents/GitHub/Work/CompuCell3D-workspace/CompuCell3D/cc3d/cpp/CompuCell3DPlugins//libCC3DCompartment.dylib\n",
      "loaded /Users/trinity/Documents/GitHub/Work/CompuCell3D-workspace/CompuCell3D/cc3d/cpp/CompuCell3DPlugins//libCC3DCompartment.dylib\n",
      "loading /Users/trinity/Documents/GitHub/Work/CompuCell3D-workspace/CompuCell3D/cc3d/cpp/CompuCell3DPlugins//libCC3DConnectivity.dylib\n",
      "loaded /Users/trinity/Documents/GitHub/Work/CompuCell3D-workspace/CompuCell3D/cc3d/cpp/CompuCell3DPlugins//libCC3DConnectivity.dylib\n",
      "loading /Users/trinity/Documents/GitHub/Work/CompuCell3D-workspace/CompuCell3D/cc3d/cpp/CompuCell3DPlugins//libCC3DConnectivityGlobal.dylib\n",
      "loaded /Users/trinity/Documents/GitHub/Work/CompuCell3D-workspace/CompuCell3D/cc3d/cpp/CompuCell3DPlugins//libCC3DConnectivityGlobal.dylib\n",
      "loading /Users/trinity/Documents/GitHub/Work/CompuCell3D-workspace/CompuCell3D/cc3d/cpp/CompuCell3DPlugins//libCC3DConnectivityLocalFlex.dylib\n",
      "loaded /Users/trinity/Documents/GitHub/Work/CompuCell3D-workspace/CompuCell3D/cc3d/cpp/CompuCell3DPlugins//libCC3DConnectivityLocalFlex.dylib\n",
      "loading /Users/trinity/Documents/GitHub/Work/CompuCell3D-workspace/CompuCell3D/cc3d/cpp/CompuCell3DPlugins//libCC3DContact.dylib\n",
      "loaded /Users/trinity/Documents/GitHub/Work/CompuCell3D-workspace/CompuCell3D/cc3d/cpp/CompuCell3DPlugins//libCC3DContact.dylib\n",
      "loading /Users/trinity/Documents/GitHub/Work/CompuCell3D-workspace/CompuCell3D/cc3d/cpp/CompuCell3DPlugins//libCC3DContactInternal.dylib\n"
     ]
    },
    {
     "name": "stderr",
     "output_type": "stream",
     "text": [
      "loaded /Users/trinity/Documents/GitHub/Work/CompuCell3D-workspace/CompuCell3D/cc3d/cpp/CompuCell3DPlugins//libCC3DContactInternal.dylib\n",
      "loading /Users/trinity/Documents/GitHub/Work/CompuCell3D-workspace/CompuCell3D/cc3d/cpp/CompuCell3DPlugins//libCC3DContactLocalFlex.dylib\n",
      "loaded /Users/trinity/Documents/GitHub/Work/CompuCell3D-workspace/CompuCell3D/cc3d/cpp/CompuCell3DPlugins//libCC3DContactLocalFlex.dylib\n",
      "loading /Users/trinity/Documents/GitHub/Work/CompuCell3D-workspace/CompuCell3D/cc3d/cpp/CompuCell3DPlugins//libCC3DContactLocalProduct.dylib\n",
      "loaded /Users/trinity/Documents/GitHub/Work/CompuCell3D-workspace/CompuCell3D/cc3d/cpp/CompuCell3DPlugins//libCC3DContactLocalProduct.dylib\n",
      "loading /Users/trinity/Documents/GitHub/Work/CompuCell3D-workspace/CompuCell3D/cc3d/cpp/CompuCell3DPlugins//libCC3DContactMultiCad.dylib\n",
      "loaded /Users/trinity/Documents/GitHub/Work/CompuCell3D-workspace/CompuCell3D/cc3d/cpp/CompuCell3DPlugins//libCC3DContactMultiCad.dylib\n",
      "loading /Users/trinity/Documents/GitHub/Work/CompuCell3D-workspace/CompuCell3D/cc3d/cpp/CompuCell3DPlugins//libCC3DContactOrientation.dylib\n",
      "loaded /Users/trinity/Documents/GitHub/Work/CompuCell3D-workspace/CompuCell3D/cc3d/cpp/CompuCell3DPlugins//libCC3DContactOrientation.dylib\n",
      "loading /Users/trinity/Documents/GitHub/Work/CompuCell3D-workspace/CompuCell3D/cc3d/cpp/CompuCell3DPlugins//libCC3DConvergentExtension.dylib\n",
      "loaded /Users/trinity/Documents/GitHub/Work/CompuCell3D-workspace/CompuCell3D/cc3d/cpp/CompuCell3DPlugins//libCC3DConvergentExtension.dylib\n",
      "loading /Users/trinity/Documents/GitHub/Work/CompuCell3D-workspace/CompuCell3D/cc3d/cpp/CompuCell3DPlugins//libCC3DCurvature.dylib\n",
      "loaded /Users/trinity/Documents/GitHub/Work/CompuCell3D-workspace/CompuCell3D/cc3d/cpp/CompuCell3DPlugins//libCC3DCurvature.dylib\n",
      "loading /Users/trinity/Documents/GitHub/Work/CompuCell3D-workspace/CompuCell3D/cc3d/cpp/CompuCell3DPlugins//libCC3DCurvatureCalculator.dylib\n",
      "loaded /Users/trinity/Documents/GitHub/Work/CompuCell3D-workspace/CompuCell3D/cc3d/cpp/CompuCell3DPlugins//libCC3DCurvatureCalculator.dylib\n",
      "loading /Users/trinity/Documents/GitHub/Work/CompuCell3D-workspace/CompuCell3D/cc3d/cpp/CompuCell3DPlugins//libCC3DElasticity.dylib\n",
      "loaded /Users/trinity/Documents/GitHub/Work/CompuCell3D-workspace/CompuCell3D/cc3d/cpp/CompuCell3DPlugins//libCC3DElasticity.dylib\n",
      "loading /Users/trinity/Documents/GitHub/Work/CompuCell3D-workspace/CompuCell3D/cc3d/cpp/CompuCell3DPlugins//libCC3DElasticityTracker.dylib\n",
      "loaded /Users/trinity/Documents/GitHub/Work/CompuCell3D-workspace/CompuCell3D/cc3d/cpp/CompuCell3DPlugins//libCC3DElasticityTracker.dylib\n",
      "loading /Users/trinity/Documents/GitHub/Work/CompuCell3D-workspace/CompuCell3D/cc3d/cpp/CompuCell3DPlugins//libCC3DExternalPotential.dylib\n",
      "loaded /Users/trinity/Documents/GitHub/Work/CompuCell3D-workspace/CompuCell3D/cc3d/cpp/CompuCell3DPlugins//libCC3DExternalPotential.dylib\n",
      "loading /Users/trinity/Documents/GitHub/Work/CompuCell3D-workspace/CompuCell3D/cc3d/cpp/CompuCell3DPlugins//libCC3DFocalPointPlasticity.dylib\n",
      "loaded /Users/trinity/Documents/GitHub/Work/CompuCell3D-workspace/CompuCell3D/cc3d/cpp/CompuCell3DPlugins//libCC3DFocalPointPlasticity.dylib\n",
      "loading /Users/trinity/Documents/GitHub/Work/CompuCell3D-workspace/CompuCell3D/cc3d/cpp/CompuCell3DPlugins//libCC3DGlobalBoundaryPixelTracker.dylib\n",
      "loaded /Users/trinity/Documents/GitHub/Work/CompuCell3D-workspace/CompuCell3D/cc3d/cpp/CompuCell3DPlugins//libCC3DGlobalBoundaryPixelTracker.dylib\n",
      "loading /Users/trinity/Documents/GitHub/Work/CompuCell3D-workspace/CompuCell3D/cc3d/cpp/CompuCell3DPlugins//libCC3DImplicitMotility.dylib\n",
      "loaded /Users/trinity/Documents/GitHub/Work/CompuCell3D-workspace/CompuCell3D/cc3d/cpp/CompuCell3DPlugins//libCC3DImplicitMotility.dylib\n",
      "loading /Users/trinity/Documents/GitHub/Work/CompuCell3D-workspace/CompuCell3D/cc3d/cpp/CompuCell3DPlugins//libCC3DLengthConstraint.dylib\n",
      "loaded /Users/trinity/Documents/GitHub/Work/CompuCell3D-workspace/CompuCell3D/cc3d/cpp/CompuCell3DPlugins//libCC3DLengthConstraint.dylib\n",
      "loading /Users/trinity/Documents/GitHub/Work/CompuCell3D-workspace/CompuCell3D/cc3d/cpp/CompuCell3DPlugins//libCC3DMitosis.dylib\n",
      "loaded /Users/trinity/Documents/GitHub/Work/CompuCell3D-workspace/CompuCell3D/cc3d/cpp/CompuCell3DPlugins//libCC3DMitosis.dylib\n",
      "loading /Users/trinity/Documents/GitHub/Work/CompuCell3D-workspace/CompuCell3D/cc3d/cpp/CompuCell3DPlugins//libCC3DMomentOfInertia.dylib\n",
      "loaded /Users/trinity/Documents/GitHub/Work/CompuCell3D-workspace/CompuCell3D/cc3d/cpp/CompuCell3DPlugins//libCC3DMomentOfInertia.dylib\n",
      "loading /Users/trinity/Documents/GitHub/Work/CompuCell3D-workspace/CompuCell3D/cc3d/cpp/CompuCell3DPlugins//libCC3DNeighborTracker.dylib\n",
      "loaded /Users/trinity/Documents/GitHub/Work/CompuCell3D-workspace/CompuCell3D/cc3d/cpp/CompuCell3DPlugins//libCC3DNeighborTracker.dylib\n",
      "loading /Users/trinity/Documents/GitHub/Work/CompuCell3D-workspace/CompuCell3D/cc3d/cpp/CompuCell3DPlugins//libCC3DOrientedContact.dylib\n",
      "loaded /Users/trinity/Documents/GitHub/Work/CompuCell3D-workspace/CompuCell3D/cc3d/cpp/CompuCell3DPlugins//libCC3DOrientedContact.dylib\n",
      "loading /Users/trinity/Documents/GitHub/Work/CompuCell3D-workspace/CompuCell3D/cc3d/cpp/CompuCell3DPlugins//libCC3DOrientedGrowth.dylib\n",
      "loaded /Users/trinity/Documents/GitHub/Work/CompuCell3D-workspace/CompuCell3D/cc3d/cpp/CompuCell3DPlugins//libCC3DOrientedGrowth.dylib\n",
      "loading /Users/trinity/Documents/GitHub/Work/CompuCell3D-workspace/CompuCell3D/cc3d/cpp/CompuCell3DPlugins//libCC3DPDESolverCaller.dylib\n",
      "loaded /Users/trinity/Documents/GitHub/Work/CompuCell3D-workspace/CompuCell3D/cc3d/cpp/CompuCell3DPlugins//libCC3DPDESolverCaller.dylib\n",
      "loading /Users/trinity/Documents/GitHub/Work/CompuCell3D-workspace/CompuCell3D/cc3d/cpp/CompuCell3DPlugins//libCC3DPixelTracker.dylib\n",
      "loaded /Users/trinity/Documents/GitHub/Work/CompuCell3D-workspace/CompuCell3D/cc3d/cpp/CompuCell3DPlugins//libCC3DPixelTracker.dylib\n",
      "loading /Users/trinity/Documents/GitHub/Work/CompuCell3D-workspace/CompuCell3D/cc3d/cpp/CompuCell3DPlugins//libCC3DPlasticity.dylib\n",
      "loaded /Users/trinity/Documents/GitHub/Work/CompuCell3D-workspace/CompuCell3D/cc3d/cpp/CompuCell3DPlugins//libCC3DPlasticity.dylib\n",
      "loading /Users/trinity/Documents/GitHub/Work/CompuCell3D-workspace/CompuCell3D/cc3d/cpp/CompuCell3DPlugins//libCC3DPlasticityTracker.dylib\n",
      "loaded /Users/trinity/Documents/GitHub/Work/CompuCell3D-workspace/CompuCell3D/cc3d/cpp/CompuCell3DPlugins//libCC3DPlasticityTracker.dylib\n",
      "loading /Users/trinity/Documents/GitHub/Work/CompuCell3D-workspace/CompuCell3D/cc3d/cpp/CompuCell3DPlugins//libCC3DPolarization23.dylib\n",
      "loaded /Users/trinity/Documents/GitHub/Work/CompuCell3D-workspace/CompuCell3D/cc3d/cpp/CompuCell3DPlugins//libCC3DPolarization23.dylib\n",
      "loading /Users/trinity/Documents/GitHub/Work/CompuCell3D-workspace/CompuCell3D/cc3d/cpp/CompuCell3DPlugins//libCC3DPolarizationVector.dylib\n",
      "loaded /Users/trinity/Documents/GitHub/Work/CompuCell3D-workspace/CompuCell3D/cc3d/cpp/CompuCell3DPlugins//libCC3DPolarizationVector.dylib\n",
      "loading /Users/trinity/Documents/GitHub/Work/CompuCell3D-workspace/CompuCell3D/cc3d/cpp/CompuCell3DPlugins//libCC3DSecretion.dylib\n",
      "loaded /Users/trinity/Documents/GitHub/Work/CompuCell3D-workspace/CompuCell3D/cc3d/cpp/CompuCell3DPlugins//libCC3DSecretion.dylib\n",
      "loading /Users/trinity/Documents/GitHub/Work/CompuCell3D-workspace/CompuCell3D/cc3d/cpp/CompuCell3DPlugins//libCC3DSurface.dylib\n",
      "loaded /Users/trinity/Documents/GitHub/Work/CompuCell3D-workspace/CompuCell3D/cc3d/cpp/CompuCell3DPlugins//libCC3DSurface.dylib\n",
      "loading /Users/trinity/Documents/GitHub/Work/CompuCell3D-workspace/CompuCell3D/cc3d/cpp/CompuCell3DPlugins//libCC3DSurfaceTracker.dylib\n",
      "loaded /Users/trinity/Documents/GitHub/Work/CompuCell3D-workspace/CompuCell3D/cc3d/cpp/CompuCell3DPlugins//libCC3DSurfaceTracker.dylib\n",
      "loading /Users/trinity/Documents/GitHub/Work/CompuCell3D-workspace/CompuCell3D/cc3d/cpp/CompuCell3DPlugins//libCC3DViscosity.dylib\n",
      "loaded /Users/trinity/Documents/GitHub/Work/CompuCell3D-workspace/CompuCell3D/cc3d/cpp/CompuCell3DPlugins//libCC3DViscosity.dylib\n",
      "loading /Users/trinity/Documents/GitHub/Work/CompuCell3D-workspace/CompuCell3D/cc3d/cpp/CompuCell3DPlugins//libCC3DVolume.dylib\n",
      "loaded /Users/trinity/Documents/GitHub/Work/CompuCell3D-workspace/CompuCell3D/cc3d/cpp/CompuCell3DPlugins//libCC3DVolume.dylib\n",
      "loading /Users/trinity/Documents/GitHub/Work/CompuCell3D-workspace/CompuCell3D/cc3d/cpp/CompuCell3DPlugins//libCC3DVolumeTracker.dylib\n",
      "loaded /Users/trinity/Documents/GitHub/Work/CompuCell3D-workspace/CompuCell3D/cc3d/cpp/CompuCell3DPlugins//libCC3DVolumeTracker.dylib\n",
      "BEFORE initializePotts\n",
      "INSIDE initializePottsCC3D=\n",
      "ppdCC3DPtr=0x600002cd40f0ppdCC3DPtr->dim=(0,0,0)\n",
      "_xmlData->getFirstElement(Dimensions)->getAttributeAsUInt(x)=100\n",
      "_xmlData->getFirstElement(Dimensions)->getAttributeAsUInt(y)=100\n",
      "_xmlData->getFirstElement(Dimensions)->getAttributeAsUInt(z)=1\n",
      "_ppdCC3DPtr->algorithmName = \n",
      " ppdCC3DPtr->seed = 0\n",
      "ppdCC3DPtr->boundary_x = \n",
      "_ppdCC3DPtr->boundary_y = \n",
      "ppdCC3DPtr->boundary_z = \n",
      "ppdCC3DPtr->latticeType = square\n",
      "destroy fcn: destroying bondary strategy\n",
      "BoundaryStrategy singleton WAS NOT DeSTROYED BECAUSE IT IS DEAD!\n",
      "initialized square lattice\n",
      "potts.getLatticeType()=1\n",
      "ppdCC3DPtr->depthFlag = 0\n",
      "ppdCC3DPtr->debugOutputFrequency = 1\n",
      "before return 1\n"
     ]
    },
    {
     "name": "stderr",
     "output_type": "stream",
     "text": [
      "_numberOfProcessors =1 numArrayElements=33\n",
      "SINGLE PROCESSOR RUN minDim=(0,0,0) maxDim=(100,100,1)\n",
      "_numberOfProcessors =1 numArrayElements=33\n",
      "SINGLE PROCESSOR RUN minDim=(0,0,0) maxDim=(100,100,1)\n",
      "AFTER initializePotts\n",
      "INITIALIZING CellType\n",
      "initialized cell type plugin\n",
      "INITIALIZING Volume\n",
      "GOT HERE BEFORE CALLING INIT\n",
      "INITIALIZING Surface\n",
      "GOT HERE BEFORE CALLING INIT\n",
      "INITIALIZING Contact\n",
      "INITIALIZING Chemotaxis\n",
      "\n",
      "\n",
      "\n",
      "  \t\t\t CenterOfMassPlugin::init() - CALLING INIT OF CENTER OF MASS PLUGIN\n",
      "\n",
      "\n",
      "\n",
      "Default constructor DiffusableVectorCommon\n",
      "INITIALIZING DiffusionSolverFE\n",
      "\n",
      "\n",
      "\n",
      "\n",
      "\n",
      " INSIDE UPDATE XML\n",
      "DiffusionConstant: 0.1\n",
      "DecayConstant: 0\n",
      "DeltaX: 1\n",
      "DeltaT: 1\n",
      "fieldName: ATTR\n",
      "\n",
      "THIS IS secretrion type=Bacterium secrConst=20\n",
      "diffSecrFieldTuppleVec.size()=1\n",
      " concentrationFieldNameVector[i]=ATTR\n",
      "FIELDS THAT I HAVE\n",
      "Field 0 name: ATTR\n",
      "DiffusionSolverFE: extra Init in read XML\n",
      "registring field: ATTR field address=0x6000030ccd20\n",
      "INITIALIZING PIFInitializer\n",
      "basePath=simulator->getBasePath()=/Users/trinity/Documents/GitHub/Work/CompuCell3D-workspace/CompuCell3D/CompuCell3D/core/Demos/bacterium_macrophage_new_style\n"
     ]
    },
    {
     "name": "stdout",
     "output_type": "stream",
     "text": [
      "WILL RUN SIMULATION FROM BEGINNING\n"
     ]
    },
    {
     "name": "stderr",
     "output_type": "stream",
     "text": [
      "begin extraInit calls for plugins\n",
      "maxType=2\n",
      "i=0 cellTypeId=2\n",
      "**************ChemotaxisData**************\n",
      "formulaPtr=1\n",
      "lambda=20 saturationCoef=0 typaName=Macrophage\n",
      "chemotactTowards=\n",
      "Chemotact towards types:\n",
      "**************ChemotaxisData END**************\n",
      "chemicalFieldSourceVec.size()=1\n",
      "size=4\n",
      "contact[0][0]=0\n",
      "contact[0][1]=8\n",
      "contact[0][2]=8\n",
      "contact[0][3]=0\n",
      "contact[1][0]=8\n",
      "contact[1][1]=15\n",
      "contact[1][2]=15\n",
      "contact[1][3]=50\n",
      "contact[2][0]=8\n",
      "contact[2][1]=15\n",
      "contact[2][2]=15\n",
      "contact[2][3]=50\n",
      "contact[3][0]=0\n",
      "contact[3][1]=50\n",
      "contact[3][2]=50\n",
      "contact[3][3]=0\n",
      "Contact maxNeighborIndex=11\n",
      "automaton=0x6000022cc018\n",
      "automaton=0x6000022cc018\n",
      "finish extraInit calls for plugins\n",
      "Simulator::start():  Plugins:, Chemotaxis, VolumeTracker, CenterOfMass, CellType, CellTypeMonitor, Contact, Surface, SurfaceTracker, Volume\n",
      "ppdPtr->pifname=/Users/trinity/Documents/GitHub/Work/CompuCell3D-workspace/CompuCell3D/CompuCell3D/core/Demos/bacterium_macrophage_new_style/Simulation/bacterium_macrophage_2D_wall.piff\n",
      "opened pid file\n",
      "THIS IS DIM FOR PIF (100,100,1)\n",
      "typeTransitionPtr=0x6000013d49a0\n",
      "First: 0 Second: Wall\n",
      "Step 0 Energy 0 Cells 16\n"
     ]
    },
    {
     "name": "stdout",
     "output_type": "stream",
     "text": [
      "FOUND THE FOLLOWING PROBLEMATIC SETTINGS:  ['PlayerSizes', 'PlayerSizesDefault', 'PlayerSizesFloating', 'PlayerSizesFloatingDefault']\n",
      "INSIDE START FUNCTION\n",
      "view_manager =  None\n"
     ]
    }
   ],
   "source": [
    "# Instantiate CC3D simulation service\n",
    "cc3d_sim = CC3DSimService(cc3d_sim_fname=simulation_fname, \n",
    "                          output_frequency=output_frequency,\n",
    "                          output_dir=root_output_folder)\n",
    "# Initialize service\n",
    "cc3d_sim.run()\n",
    "\n",
    "# Initialize simulation\n",
    "cc3d_sim.init()\n",
    "cc3d_sim.start()\n",
    "\n",
    "# Initialize visualizations\n",
    "cells_client = cc3d_sim.visualize(plot_freq=10, drawing_style='2D')\n",
    "attr_client = cc3d_sim.visualize(plot_freq=10, drawing_style='2D')\n",
    "attr_client.set_field_name('ATTR')"
   ]
  },
  {
   "cell_type": "code",
   "execution_count": 8,
   "id": "d432081a",
   "metadata": {
    "scrolled": false
   },
   "outputs": [
    {
     "data": {
      "application/vnd.jupyter.widget-view+json": {
       "model_id": "ca92e0c6aeea490d84458768b99494bc",
       "version_major": 2,
       "version_minor": 0
      },
      "text/plain": [
       "VBox(children=(HBox(children=(CC3DViewInteractiveWidget(height=600, layout=Layout(height='auto', width='100%')…"
      ]
     },
     "metadata": {},
     "output_type": "display_data"
    }
   ],
   "source": [
    "# Display visualizations side-by-side in the typical way...\n",
    "# from ipywidgets import HBox\n",
    "# from IPython.display import display\n",
    "# hbox = HBox([frame_cells.widget, frame_attr.widget])\n",
    "# display(hbox)\n",
    "\n",
    "# ... or use a built-in convenience container and synchronize cameras...\n",
    "from cc3d.core.GraphicsUtils.JupyterGraphicsFrameWidget import CC3DJupyterGraphicsFrameGrid\n",
    "frame_grid = CC3DJupyterGraphicsFrameGrid(cols=2)\n",
    "frame_grid.set_frame(cells_client, 0, 0)\n",
    "frame_grid.set_frame(attr_client, 0, 1)\n",
    "frame_grid.sync_cameras()\n",
    "frame_grid.show()"
   ]
  },
  {
   "cell_type": "code",
   "execution_count": null,
   "id": "ac262693",
   "metadata": {
    "scrolled": false
   },
   "outputs": [],
   "source": [
    "# ... or set up shared interactions between two specific frames\n",
    "# frame_cells.sync_cameras(frame_attr)"
   ]
  },
  {
   "cell_type": "code",
   "execution_count": null,
   "id": "8d4a6641",
   "metadata": {
    "scrolled": true
   },
   "outputs": [],
   "source": [
    "while cc3d_sim.current_step < steps:\n",
    "    # Step simulation\n",
    "    cc3d_sim.step()\n",
    "\n",
    "cc3d_sim.finish()\n",
    "print(cc3d_sim.profiler_report)"
   ]
  }
 ],
 "metadata": {
  "kernelspec": {
   "display_name": "Python 3 (ipykernel)",
   "language": "python",
   "name": "python3"
  },
  "language_info": {
   "codemirror_mode": {
    "name": "ipython",
    "version": 3
   },
   "file_extension": ".py",
   "mimetype": "text/x-python",
   "name": "python",
   "nbconvert_exporter": "python",
   "pygments_lexer": "ipython3",
   "version": "3.7.6"
  }
 },
 "nbformat": 4,
 "nbformat_minor": 5
}
