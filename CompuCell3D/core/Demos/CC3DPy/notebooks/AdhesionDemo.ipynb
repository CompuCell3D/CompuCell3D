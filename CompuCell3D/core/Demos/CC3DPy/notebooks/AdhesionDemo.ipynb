{
 "cells": [
  {
   "cell_type": "markdown",
   "id": "2c2c11ac",
   "metadata": {},
   "source": [
    "Adhesion Demo\n",
    "==============\n",
    "\n",
    "This example demonstrates how to specify cell adhesion on the basis of molecular species.\n",
    "\n",
    "Adjust the sliders to change the binding energy of two molecules, each of which is only on the surface of a particular\n",
    "cell type. A third cell type has neither molecule."
   ]
  },
  {
   "cell_type": "markdown",
   "id": "13707900",
   "metadata": {},
   "source": [
    "Basic setup\n",
    "------------\n",
    "An interactive CC3D simulation can be initialized from a list of core specs.\n",
    "Start a list of core specs that define the simulation by specifying a two-dimensional simulation\n",
    "with a 100x100 lattice and second-order Potts neighborhood, and metadata to use multithreading"
   ]
  },
  {
   "cell_type": "code",
   "execution_count": null,
   "id": "17c93be1",
   "metadata": {},
   "outputs": [],
   "source": [
    "from cc3d.core.PyCoreSpecs import Metadata, PottsCore\n",
    "\n",
    "dim_x = dim_y = 100\n",
    "specs = [\n",
    "    Metadata(num_processors=4),\n",
    "    PottsCore(dim_x=dim_x,\n",
    "              dim_y=dim_y,\n",
    "              neighbor_order=2,\n",
    "              boundary_x=\"Periodic\",\n",
    "              boundary_y=\"Periodic\")\n",
    "]"
   ]
  },
  {
   "cell_type": "markdown",
   "id": "41d405d8",
   "metadata": {},
   "source": [
    "Cell Types\n",
    "-----------\n",
    "\n",
    "Define three cell types called \"T1\" through \"T3\"."
   ]
  },
  {
   "cell_type": "code",
   "execution_count": null,
   "id": "a3b04b8f",
   "metadata": {},
   "outputs": [],
   "source": [
    "from cc3d.core.PyCoreSpecs import CellTypePlugin\n",
    "\n",
    "cell_types = [\"T1\", \"T2\", \"T3\"]\n",
    "specs.append(CellTypePlugin(*cell_types))"
   ]
  },
  {
   "cell_type": "markdown",
   "id": "ee93c998",
   "metadata": {},
   "source": [
    "Volume Constraint\n",
    "------------------\n",
    "\n",
    "Assign a volume constraint to all cell types."
   ]
  },
  {
   "cell_type": "code",
   "execution_count": null,
   "id": "3aaaa38c",
   "metadata": {},
   "outputs": [],
   "source": [
    "from cc3d.core.PyCoreSpecs import VolumePlugin\n",
    "\n",
    "volume_specs = VolumePlugin()\n",
    "for ct in cell_types:\n",
    "    volume_specs.param_new(ct, target_volume=25, lambda_volume=2)\n",
    "specs.append(volume_specs)"
   ]
  },
  {
   "cell_type": "markdown",
   "id": "4679d681",
   "metadata": {},
   "source": [
    "Adhesion\n",
    "---------\n",
    "\n",
    "Assign uniform adhesion to all cells, and additional adhesion by molecular species."
   ]
  },
  {
   "cell_type": "code",
   "execution_count": null,
   "id": "d0a45d59",
   "metadata": {},
   "outputs": [],
   "source": [
    "from cc3d.core.PyCoreSpecs import ContactPlugin, AdhesionFlexPlugin\n",
    "\n",
    "contact_specs = ContactPlugin(neighbor_order=2)\n",
    "for idx1 in range(len(cell_types)):\n",
    "    contact_specs.param_new(type_1=\"Medium\", type_2=cell_types[idx1], energy=16)\n",
    "    for idx2 in range(idx1, len(cell_types)):\n",
    "        contact_specs.param_new(type_1=cell_types[idx1], type_2=cell_types[idx2], energy=16)\n",
    "specs.append(contact_specs)\n",
    "\n",
    "adhesion_specs = AdhesionFlexPlugin(neighbor_order=2)\n",
    "adhesion_specs.density_new(molecule=\"M1\", cell_type=\"T1\", density=1.0)\n",
    "adhesion_specs.density_new(molecule=\"M2\", cell_type=\"T2\", density=1.0)\n",
    "formula = adhesion_specs.formula_new(formula_name='Binary')\n",
    "formula.param_set(\"M1\", \"M1\", -10.0)\n",
    "formula.param_set(\"M1\", \"M2\", 0.0)\n",
    "formula.param_set(\"M2\", \"M2\", 10.0)\n",
    "specs.append(adhesion_specs)"
   ]
  },
  {
   "cell_type": "markdown",
   "id": "5289cec9",
   "metadata": {},
   "source": [
    "Cell Distribution Initialization\n",
    "---------------------------------\n",
    "\n",
    "Initialize cells over the entire domain."
   ]
  },
  {
   "cell_type": "code",
   "execution_count": null,
   "id": "dcff7b2d",
   "metadata": {},
   "outputs": [],
   "source": [
    "from cc3d.core.PyCoreSpecs import UniformInitializer\n",
    "\n",
    "unif_init_specs = UniformInitializer()\n",
    "unif_init_specs.region_new(width=5, pt_min=(0, 0, 0), pt_max=(dim_x, dim_y, 1),\n",
    "                           cell_types=[\"T1\", \"T1\", \"T2\", \"T2\", \"T3\"])\n",
    "specs.append(unif_init_specs)"
   ]
  },
  {
   "cell_type": "markdown",
   "id": "1bfc58e6",
   "metadata": {},
   "source": [
    "Simulation Launch\n",
    "------------------\n",
    "\n",
    "Initialize a CC3D simulation service instance and register all simulation specification."
   ]
  },
  {
   "cell_type": "code",
   "execution_count": null,
   "id": "8f8df9ab",
   "metadata": {},
   "outputs": [],
   "source": [
    "from cc3d.CompuCellSetup.CC3DCaller import CC3DSimService\n",
    "\n",
    "cc3d_sim = CC3DSimService()\n",
    "cc3d_sim.register_specs(specs)\n",
    "cc3d_sim.run()\n",
    "cc3d_sim.init()\n",
    "cc3d_sim.start()"
   ]
  },
  {
   "cell_type": "markdown",
   "id": "1493a753",
   "metadata": {},
   "source": [
    "Steering\n",
    "---------\n",
    "\n",
    "Add sliders to adjust molecular adhesion model parameters during simulation execution."
   ]
  },
  {
   "cell_type": "code",
   "execution_count": null,
   "id": "6187ea5a",
   "metadata": {},
   "outputs": [],
   "source": [
    "import ipywidgets\n",
    "\n",
    "def _cb_m1_m1(change):\n",
    "    if change['name'] == 'value':\n",
    "        adhesion_specs.formula['Binary']['M1']['M1'] = change.new\n",
    "        adhesion_specs.steer()\n",
    "\n",
    "def _cb_m1_m2(change):\n",
    "    if change['name'] == 'value':\n",
    "        adhesion_specs.formula['Binary']['M1']['M1'] = change.new\n",
    "        adhesion_specs.steer()\n",
    "\n",
    "def _cb_m2_m2(change):\n",
    "    if change['name'] == 'value':\n",
    "        adhesion_specs.formula['Binary']['M2']['M2'] = change.new\n",
    "        adhesion_specs.steer()\n",
    "\n",
    "slider_m1_m1 = ipywidgets.FloatSlider(\n",
    "    value=adhesion_specs.formula['Binary']['M1']['M1'], \n",
    "    min=-10, \n",
    "    max=10, \n",
    "    step=0.1, \n",
    "    continuous_update=False, \n",
    "    description='M1-M1'\n",
    ")\n",
    "slider_m1_m2 = ipywidgets.FloatSlider(\n",
    "    value=adhesion_specs.formula['Binary']['M1']['M2'], \n",
    "    min=-10, \n",
    "    max=10, \n",
    "    step=0.1, \n",
    "    continuous_update=False, \n",
    "    description='M1-M2'\n",
    ")\n",
    "slider_m2_m2 = ipywidgets.FloatSlider(\n",
    "    value=adhesion_specs.formula['Binary']['M2']['M2'], \n",
    "    min=-10, \n",
    "    max=10, \n",
    "    step=0.1, \n",
    "    continuous_update=False, \n",
    "    description='M2-M2'\n",
    ")\n",
    "\n",
    "slider_m1_m1.observe(_cb_m1_m1, names='value')\n",
    "slider_m1_m2.observe(_cb_m1_m2, names='value')\n",
    "slider_m2_m2.observe(_cb_m2_m2, names='value')"
   ]
  },
  {
   "cell_type": "markdown",
   "id": "24f1c306",
   "metadata": {},
   "source": [
    "Visualization\n",
    "--------------\n",
    "\n",
    "Show a single frame to visualize simulation data as it is generated and all steering widgets."
   ]
  },
  {
   "cell_type": "code",
   "execution_count": null,
   "id": "06145074",
   "metadata": {
    "scrolled": false
   },
   "outputs": [],
   "source": [
    "from IPython.display import display\n",
    "\n",
    "cc3d_sim.visualize(plot_freq=10).show()\n",
    "display(slider_m1_m1)\n",
    "display(slider_m1_m2)\n",
    "display(slider_m2_m2)\n",
    "display(cc3d_sim.jupyter_run_button())"
   ]
  }
 ],
 "metadata": {
  "kernelspec": {
   "display_name": "Python 3 (ipykernel)",
   "language": "python",
   "name": "python3"
  },
  "language_info": {
   "codemirror_mode": {
    "name": "ipython",
    "version": 3
   },
   "file_extension": ".py",
   "mimetype": "text/x-python",
   "name": "python",
   "nbconvert_exporter": "python",
   "pygments_lexer": "ipython3",
   "version": "3.7.13"
  }
 },
 "nbformat": 4,
 "nbformat_minor": 5
}
