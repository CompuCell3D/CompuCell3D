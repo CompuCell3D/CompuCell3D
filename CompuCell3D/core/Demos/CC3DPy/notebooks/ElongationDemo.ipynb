{
 "cells": [
  {
   "cell_type": "markdown",
   "id": "2b43e555",
   "metadata": {},
   "source": [
    "Elongation Demo\n",
    "================\n",
    "\n",
    "This example demonstrates how to specify cell shape and contact-inhibited chemotaxis.\n",
    "\n",
    "Adapated from\n",
    "\n",
    "    Merks, Roeland MH, et al.\n",
    "    \"Cell elongation is key to in silico replication of in vitro vasculogenesis and subsequent remodeling.\"\n",
    "    Developmental biology 289.1 (2006): 44-54.\n",
    "\n",
    "    Merks, Roeland MH, et al.\n",
    "    \"Contact-inhibited chemotaxis in de novo and sprouting blood-vessel growth.\"\n",
    "    PLoS Comput Biol 4.9 (2008): e1000163.\n",
    "\n",
    "Use the sliders to adjust chemotaxis and elongation during angiogensis"
   ]
  },
  {
   "cell_type": "markdown",
   "id": "807f3105",
   "metadata": {},
   "source": [
    "Basic setup\n",
    "------------\n",
    "\n",
    "An interactive CC3D simulation can be initialized from a list of core specs.\n",
    "Start a list of core specs that define the simulation by specifying a two-dimensional simulation\n",
    "with a 200x200 lattice and second-order Potts neighborhood, and metadata to use multithreading."
   ]
  },
  {
   "cell_type": "code",
   "execution_count": null,
   "id": "ede5433c",
   "metadata": {},
   "outputs": [],
   "source": [
    "from cc3d.core.PyCoreSpecs import Metadata, PottsCore\n",
    "\n",
    "# Declare simulation details\n",
    "dim_x = dim_y = 200\n",
    "site_len = 2E-6  # Length of a voxel side\n",
    "step_len = 30.0  # Period of a simulation step\n",
    "\n",
    "# Declare secretion rate\n",
    "secr_rate = 1.8E-4 * step_len\n",
    "\n",
    "specs = [\n",
    "    Metadata(num_processors=4),\n",
    "    PottsCore(dim_x=dim_x, dim_y=dim_y)\n",
    "]"
   ]
  },
  {
   "cell_type": "markdown",
   "id": "6122b88a",
   "metadata": {},
   "source": [
    "Cell Types\n",
    "-----------\n",
    "\n",
    "Define a cell type \"T1\" and cell type for a wall around the boundary."
   ]
  },
  {
   "cell_type": "code",
   "execution_count": null,
   "id": "37a385f5",
   "metadata": {},
   "outputs": [],
   "source": [
    "from cc3d.core.PyCoreSpecs import CellTypePlugin\n",
    "\n",
    "cell_type_specs = CellTypePlugin(\"T1\", \"Wall\")\n",
    "cell_type_specs.frozen_set(\"Wall\", True)\n",
    "specs.append(cell_type_specs)"
   ]
  },
  {
   "cell_type": "markdown",
   "id": "98adfeaa",
   "metadata": {},
   "source": [
    "Volume Constraint\n",
    "------------------\n",
    "\n",
    "Assign a volume constraint to all cell types."
   ]
  },
  {
   "cell_type": "code",
   "execution_count": null,
   "id": "a7b76c8c",
   "metadata": {},
   "outputs": [],
   "source": [
    "from cc3d.core.PyCoreSpecs import VolumePlugin\n",
    "\n",
    "volume_specs = VolumePlugin()\n",
    "volume_specs.param_new(\"T1\", target_volume=50, lambda_volume=2)\n",
    "specs.append(volume_specs)"
   ]
  },
  {
   "cell_type": "markdown",
   "id": "19f96bd3",
   "metadata": {},
   "source": [
    "Adhesion\n",
    "---------\n",
    "\n",
    "Assign uniform adhesion to all cells."
   ]
  },
  {
   "cell_type": "code",
   "execution_count": null,
   "id": "107c6701",
   "metadata": {},
   "outputs": [],
   "source": [
    "from cc3d.core.PyCoreSpecs import ContactPlugin\n",
    "\n",
    "contact_specs = ContactPlugin(neighbor_order=2)\n",
    "contact_specs.param_new(type_1=\"Medium\", type_2=\"T1\", energy=10)\n",
    "contact_specs.param_new(type_1=\"T1\", type_2=\"T1\", energy=20)\n",
    "contact_specs.param_new(type_1=\"T1\", type_2=\"Wall\", energy=50)\n",
    "specs.append(contact_specs)"
   ]
  },
  {
   "cell_type": "markdown",
   "id": "bdd1a903",
   "metadata": {},
   "source": [
    "Cell Distribution Initialization\n",
    "---------------------------------\n",
    "\n",
    "Initialize cells in the domain, and define a steppable that builds a wall during startup."
   ]
  },
  {
   "cell_type": "code",
   "execution_count": null,
   "id": "8cf49ab6",
   "metadata": {},
   "outputs": [],
   "source": [
    "from cc3d.core.PyCoreSpecs import UniformInitializer\n",
    "from cc3d.core.PySteppables import SteppableBasePy\n",
    "\n",
    "unif_init_specs = UniformInitializer()\n",
    "unif_init_specs.region_new(pt_min=(7 + 5, 7 + 5, 0), pt_max=(dim_x - 7 - 5, dim_y - 7 - 5, 1),\n",
    "                           gap=10, width=7, cell_types=[\"T1\"])\n",
    "specs.append(unif_init_specs)\n",
    "\n",
    "\n",
    "class ElongationDemoSteppable(SteppableBasePy):\n",
    "\n",
    "    def start(self):\n",
    "        \"\"\"\n",
    "        Builds a wall at the beginning of simulation\n",
    "        \"\"\"\n",
    "        self.build_wall(self.cell_type.Wall)\n",
    "\n",
    "steppable = ElongationDemoSteppable()"
   ]
  },
  {
   "cell_type": "markdown",
   "id": "6cf76e88",
   "metadata": {},
   "source": [
    "Chemoattract Diffusion\n",
    "-----------------------\n",
    "\n",
    "Apply a PDE field named \"F1\" solved by DiffusionSolverFE."
   ]
  },
  {
   "cell_type": "code",
   "execution_count": null,
   "id": "313c4c0c",
   "metadata": {},
   "outputs": [],
   "source": [
    "from cc3d.core.PyCoreSpecs import DiffusionSolverFE\n",
    "\n",
    "diff_solver_specs = DiffusionSolverFE()\n",
    "f1 = diff_solver_specs.field_new(\"F1\")\n",
    "f1.diff_data.diff_global = 1E-13 / (site_len * site_len) * step_len\n",
    "f1.diff_data.decay_types[\"Medium\"] = secr_rate\n",
    "f1.secretion_data_new(\"T1\", secr_rate)\n",
    "f1.bcs.x_min_type = \"Periodic\"\n",
    "f1.bcs.y_min_type = \"Periodic\"\n",
    "specs.append(diff_solver_specs)"
   ]
  },
  {
   "cell_type": "markdown",
   "id": "f76876ac",
   "metadata": {},
   "source": [
    "Chemotaxis\n",
    "-----------\n",
    "\n",
    "Apply contact-mediated chemotaxis to cells by type and field"
   ]
  },
  {
   "cell_type": "code",
   "execution_count": null,
   "id": "a0108c27",
   "metadata": {},
   "outputs": [],
   "source": [
    "from cc3d.core.PyCoreSpecs import ChemotaxisPlugin\n",
    "\n",
    "chemo_specs = ChemotaxisPlugin()\n",
    "cs = chemo_specs.param_new(field_name=\"F1\", solver_name=\"DiffusionSolverFE\")\n",
    "cs.params_new(\"T1\", lambda_chemo=100, towards=\"Medium\")\n",
    "specs.append(chemo_specs)"
   ]
  },
  {
   "cell_type": "markdown",
   "id": "5f83934e",
   "metadata": {},
   "source": [
    "Cell Shape\n",
    "-----------\n",
    "\n",
    "Apply a length constraint."
   ]
  },
  {
   "cell_type": "code",
   "execution_count": null,
   "id": "45970e0a",
   "metadata": {},
   "outputs": [],
   "source": [
    "from cc3d.core.PyCoreSpecs import LengthConstraintPlugin\n",
    "\n",
    "len_specs = LengthConstraintPlugin()\n",
    "len_specs.params_new(\"T1\", lambda_length=1, target_length=20)\n",
    "specs.append(len_specs)"
   ]
  },
  {
   "cell_type": "markdown",
   "id": "92267d05",
   "metadata": {},
   "source": [
    "Connectivity\n",
    "-------------\n",
    "\n",
    "Apply a connectivity constraint to keep cells from fragmenting"
   ]
  },
  {
   "cell_type": "code",
   "execution_count": null,
   "id": "cebfe2bc",
   "metadata": {},
   "outputs": [],
   "source": [
    "from cc3d.core.PyCoreSpecs import ConnectivityGlobalPlugin\n",
    "\n",
    "connect_specs = ConnectivityGlobalPlugin(fast=True)\n",
    "connect_specs.cell_type_append(\"T1\")\n",
    "specs.append(connect_specs)"
   ]
  },
  {
   "cell_type": "markdown",
   "id": "31509d65",
   "metadata": {},
   "source": [
    "Simulation Launch\n",
    "------------------\n",
    "\n",
    "Initialize a CC3D simulation service instance and register all simulation specification."
   ]
  },
  {
   "cell_type": "code",
   "execution_count": null,
   "id": "88f8d5d8",
   "metadata": {},
   "outputs": [],
   "source": [
    "from cc3d.CompuCellSetup.CC3DCaller import CC3DSimService\n",
    "\n",
    "cc3d_sim = CC3DSimService()\n",
    "cc3d_sim.register_specs(specs)\n",
    "cc3d_sim.register_steppable(steppable=steppable)\n",
    "cc3d_sim.run()\n",
    "cc3d_sim.init()\n",
    "cc3d_sim.start()"
   ]
  },
  {
   "cell_type": "markdown",
   "id": "dd3372d7",
   "metadata": {},
   "source": [
    "Steering\n",
    "---------\n",
    "\n",
    "Add sliders to adjust cell shape and chemotaxis model parameters during simulation execution."
   ]
  },
  {
   "cell_type": "code",
   "execution_count": null,
   "id": "ec38ef3f",
   "metadata": {},
   "outputs": [],
   "source": [
    "import ipywidgets\n",
    "\n",
    "def _cb_length_target(change):\n",
    "    if change['name'] == 'value':\n",
    "        len_specs['T1'].target_length = change.new\n",
    "        len_specs.steer()\n",
    "\n",
    "def _cb_length_lambda(change):\n",
    "    if change['name'] == 'value':\n",
    "        len_specs['T1'].lambda_length = change.new\n",
    "        len_specs.steer()\n",
    "\n",
    "def _cb_chemotaxis_lambda(change):\n",
    "    if change['name'] == 'value':\n",
    "        chemo_specs['F1']['T1'].lambda_chemo = change.new\n",
    "        chemo_specs.steer()\n",
    "\n",
    "slider_length_target = ipywidgets.FloatSlider(\n",
    "    value=len_specs['T1'].target_length, \n",
    "    min=0, \n",
    "    max=40, \n",
    "    step=1, \n",
    "    description='Length constraint target length', \n",
    "    continuous_update=False\n",
    ")\n",
    "slider_length_lambda = ipywidgets.FloatSlider(\n",
    "    value=len_specs['T1'].lambda_length, \n",
    "    min=0, \n",
    "    max=1, \n",
    "    step=0.01, \n",
    "    description='Length constraint parameter',\n",
    "    continuous_update=False\n",
    ")\n",
    "slider_chemotaxis_lambda = ipywidgets.FloatSlider(\n",
    "    value=chemo_specs['F1']['T1'].lambda_chemo, \n",
    "    min=0, \n",
    "    max=1E3, \n",
    "    step=1, \n",
    "    description='Chemotaxis parameter', \n",
    "    continuous_update=False\n",
    ")\n",
    "\n",
    "slider_length_target.observe(_cb_length_target, names='value')\n",
    "slider_length_lambda.observe(_cb_length_lambda, names='value')\n",
    "slider_chemotaxis_lambda.observe(_cb_chemotaxis_lambda, names='value')"
   ]
  },
  {
   "cell_type": "markdown",
   "id": "1951e5d4",
   "metadata": {},
   "source": [
    "Visualization\n",
    "--------------\n",
    "\n",
    "Show a single frame for the cell field and \"F1\" to visualize simulation data as it is generated \n",
    "and all steering widgets."
   ]
  },
  {
   "cell_type": "code",
   "execution_count": null,
   "id": "41ba357b",
   "metadata": {},
   "outputs": [],
   "source": [
    "from IPython.display import display\n",
    "from cc3d.core.GraphicsUtils.JupyterGraphicsFrameWidget import CC3DJupyterGraphicsFrameGrid\n",
    "\n",
    "frame_cells = cc3d_sim.visualize(plot_freq=10)\n",
    "frame_f1 = cc3d_sim.visualize(plot_freq=10)\n",
    "frame_f1.field_name = \"F1\"\n",
    "\n",
    "frame_grid = CC3DJupyterGraphicsFrameGrid(cols=2)\n",
    "frame_grid.set_frame(frame_cells, row=0, col=0)\n",
    "frame_grid.set_frame(frame_f1, row=0, col=1)\n",
    "frame_grid.control_panel()\n",
    "frame_grid.show()\n",
    "display(slider_length_target)\n",
    "display(slider_length_lambda)\n",
    "display(slider_chemotaxis_lambda)\n",
    "display(cc3d_sim.jupyter_run_button())"
   ]
  }
 ],
 "metadata": {
  "kernelspec": {
   "display_name": "Python 3 (ipykernel)",
   "language": "python",
   "name": "python3"
  },
  "language_info": {
   "codemirror_mode": {
    "name": "ipython",
    "version": 3
   },
   "file_extension": ".py",
   "mimetype": "text/x-python",
   "name": "python",
   "nbconvert_exporter": "python",
   "pygments_lexer": "ipython3",
   "version": "3.7.13"
  }
 },
 "nbformat": 4,
 "nbformat_minor": 5
}
