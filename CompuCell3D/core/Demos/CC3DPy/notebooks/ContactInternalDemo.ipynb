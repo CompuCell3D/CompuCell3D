{
 "cells": [
  {
   "cell_type": "markdown",
   "id": "6d1d8c3c",
   "metadata": {},
   "source": [
    "ContactInternal Plugin Demo\n",
    "============================\n",
    "\n",
    "This example demonstrates how to specify cellular compartments, complex heterogeneous cells and adhesion on the\n",
    "basis of cellular compartments.\n",
    "\n",
    "Adjust the sliders to change the adhesion of cellular compartments between cells, as well as the adhesion of\n",
    "cellular compartments within cells."
   ]
  },
  {
   "cell_type": "markdown",
   "id": "abe5209f",
   "metadata": {},
   "source": [
    "Basic setup\n",
    "------------\n",
    "\n",
    "An interactive CC3D simulation can be initialized from a list of core specs.\n",
    "Start a list of core specs that define the simulation by specifying a two-dimensional simulation\n",
    "with a 105x105 lattice and second-order Potts neighborhood.\n",
    "Also use PixelTrackerPlugin to quickly get cell locations during simulation."
   ]
  },
  {
   "cell_type": "code",
   "execution_count": null,
   "id": "5cecab18",
   "metadata": {},
   "outputs": [],
   "source": [
    "from cc3d.core.PyCoreSpecs import PottsCore, CellTypePlugin, PixelTrackerPlugin\n",
    "\n",
    "dim_x = dim_y = 105\n",
    "\n",
    "specs = [\n",
    "    PottsCore(dim_x=dim_x,\n",
    "              dim_y=dim_y,\n",
    "              neighbor_order=2,\n",
    "              boundary_x=\"Periodic\",\n",
    "              boundary_y=\"Periodic\"),\n",
    "    PixelTrackerPlugin()\n",
    "]"
   ]
  },
  {
   "cell_type": "markdown",
   "id": "46d151fb",
   "metadata": {},
   "source": [
    "Cell Types\n",
    "-----------\n",
    "\n",
    "Define compartment cell types \"A\" and \"B\" and cell type \"C\"."
   ]
  },
  {
   "cell_type": "code",
   "execution_count": null,
   "id": "0451cb86",
   "metadata": {},
   "outputs": [],
   "source": [
    "from cc3d.core.PyCoreSpecs import CellTypePlugin\n",
    "\n",
    "cell_type_specs = CellTypePlugin(\"A\", \"B\", \"C\")\n",
    "specs.append(cell_type_specs)"
   ]
  },
  {
   "cell_type": "markdown",
   "id": "8bf48dfe",
   "metadata": {},
   "source": [
    "Volume Constraint\n",
    "------------------\n",
    "\n",
    "Assign a volume constraint to all cell types."
   ]
  },
  {
   "cell_type": "code",
   "execution_count": null,
   "id": "146fd4be",
   "metadata": {},
   "outputs": [],
   "source": [
    "from cc3d.core.PyCoreSpecs import VolumePlugin\n",
    "\n",
    "volume_specs = VolumePlugin()\n",
    "volume_specs.param_new(\"A\", lambda_volume=10, target_volume=10)\n",
    "volume_specs.param_new(\"B\", lambda_volume=10, target_volume=10)\n",
    "volume_specs.param_new(\"C\", lambda_volume=10, target_volume=30)\n",
    "specs.append(volume_specs)"
   ]
  },
  {
   "cell_type": "markdown",
   "id": "0637380a",
   "metadata": {},
   "source": [
    "Adhesion\n",
    "---------\n",
    "\n",
    "Assign uniform adhesion to all cells, and additional adhesion by cellular compartments"
   ]
  },
  {
   "cell_type": "code",
   "execution_count": null,
   "id": "d1477c26",
   "metadata": {},
   "outputs": [],
   "source": [
    "from cc3d.core.PyCoreSpecs import ContactLocalFlexPlugin, ContactInternalPlugin\n",
    "\n",
    "contact_specs = ContactLocalFlexPlugin(neighbor_order=3)\n",
    "contact_specs.param_new(type_1=\"Medium\", type_2=\"A\", energy=30)\n",
    "contact_specs.param_new(type_1=\"Medium\", type_2=\"B\", energy=10)\n",
    "contact_specs.param_new(type_1=\"Medium\", type_2=\"C\", energy=20)\n",
    "contact_specs.param_new(type_1=\"A\", type_2=\"A\", energy=10)\n",
    "contact_specs.param_new(type_1=\"A\", type_2=\"B\", energy=20)\n",
    "contact_specs.param_new(type_1=\"A\", type_2=\"C\", energy=12)\n",
    "contact_specs.param_new(type_1=\"B\", type_2=\"B\", energy=15)\n",
    "contact_specs.param_new(type_1=\"B\", type_2=\"C\", energy=12)\n",
    "contact_specs.param_new(type_1=\"C\", type_2=\"C\", energy=20)\n",
    "specs.append(contact_specs)\n",
    "\n",
    "contact_intern_specs = ContactInternalPlugin(neighbor_order=3)\n",
    "contact_intern_specs.param_new(type_1=\"A\", type_2=\"B\", energy=30)\n",
    "contact_intern_specs.param_new(type_1=\"A\", type_2=\"C\", energy=5)\n",
    "contact_intern_specs.param_new(type_1=\"B\", type_2=\"C\", energy=5)\n",
    "specs.append(contact_intern_specs)"
   ]
  },
  {
   "cell_type": "markdown",
   "id": "2b89c573",
   "metadata": {},
   "source": [
    "Cell Distribution Initialization\n",
    "---------------------------------\n",
    "\n",
    "Initialize cells over the entire domain."
   ]
  },
  {
   "cell_type": "code",
   "execution_count": null,
   "id": "242bde4c",
   "metadata": {},
   "outputs": [],
   "source": [
    "from cc3d.core.PyCoreSpecs import UniformInitializer\n",
    "\n",
    "unif_init_specs = UniformInitializer()\n",
    "unif_init_specs.region_new(gap=0, width=7, pt_min=(0, 0, 0), pt_max=(dim_x, dim_y, 1), cell_types=[\"C\"])\n",
    "specs.append(unif_init_specs)"
   ]
  },
  {
   "cell_type": "markdown",
   "id": "5879b5a6",
   "metadata": {},
   "source": [
    "Links\n",
    "------\n",
    "\n",
    "Apply intercellular links between compartments of type \"A\", and intracellular links between compartments \"A\" and \"B\""
   ]
  },
  {
   "cell_type": "code",
   "execution_count": null,
   "id": "a28aa6b1",
   "metadata": {},
   "outputs": [],
   "source": [
    "from cc3d.core.PyCoreSpecs import FocalPointPlasticityPlugin\n",
    "\n",
    "fpp_specs = FocalPointPlasticityPlugin()\n",
    "fpp_specs.params_new(\"A\", \"A\", lambda_fpp=5, activation_energy=-50, target_distance=5, max_distance=20, max_junctions=2)\n",
    "fpp_specs.params_new(\"A\", \"B\", lambda_fpp=5, activation_energy=-50, target_distance=10, max_distance=20, internal=True)\n",
    "specs.append(fpp_specs)"
   ]
  },
  {
   "cell_type": "markdown",
   "id": "9cf679f1",
   "metadata": {},
   "source": [
    "Cellular Initialization\n",
    "------------------------\n",
    "\n",
    "Construct a steppable that initializes each cell with a random distribution of cellular compartments"
   ]
  },
  {
   "cell_type": "code",
   "execution_count": null,
   "id": "cac6542a",
   "metadata": {},
   "outputs": [],
   "source": [
    "from random import shuffle\n",
    "from cc3d.core.PySteppables import SteppableBasePy\n",
    "\n",
    "class ContactInternalDemoSteppable(SteppableBasePy):\n",
    "\n",
    "    def start(self):\n",
    "        \"\"\"\n",
    "        Initializes random intracellular configurations\n",
    "        \"\"\"\n",
    "\n",
    "        specs_volume: VolumePlugin = self.specs.volume\n",
    "        target_volume_A = specs_volume[\"A\"].target_volume\n",
    "        target_volume_B = specs_volume[\"B\"].target_volume\n",
    "\n",
    "        for cell in self.cell_list_by_type(self.cell_type.C):\n",
    "            pixel_list = [px.pixel for px in self.get_cell_pixel_list(cell)]\n",
    "            shuffle(pixel_list)\n",
    "            pixel_list_A = [pixel_list.pop(x) for x in range(target_volume_A)]\n",
    "            pixel_list_B = [pixel_list.pop(x) for x in range(target_volume_B)]\n",
    "            cell_A = self.new_cell(self.cell_type.A)\n",
    "            self.inventory.reassignClusterId(cell_A, cell.clusterId)\n",
    "            cell_B = self.new_cell(self.cell_type.B)\n",
    "            self.inventory.reassignClusterId(cell_B, cell.clusterId)\n",
    "            for px in pixel_list_A:\n",
    "                self.cell_field[px.x, px.y, px.z] = cell_A\n",
    "            for px in pixel_list_B:\n",
    "                self.cell_field[px.x, px.y, px.z] = cell_B\n",
    "\n",
    "steppable = ContactInternalDemoSteppable()"
   ]
  },
  {
   "cell_type": "markdown",
   "id": "e7807360",
   "metadata": {},
   "source": [
    "Simulation Launch\n",
    "------------------\n",
    "\n",
    "Initialize a CC3D simulation service instance and register all simulation specification."
   ]
  },
  {
   "cell_type": "code",
   "execution_count": null,
   "id": "aa6a3389",
   "metadata": {},
   "outputs": [],
   "source": [
    "from cc3d.CompuCellSetup.CC3DCaller import CC3DSimService\n",
    "\n",
    "cc3d_sim = CC3DSimService()\n",
    "cc3d_sim.register_specs(specs)\n",
    "cc3d_sim.register_steppable(steppable=steppable)\n",
    "cc3d_sim.run()\n",
    "cc3d_sim.init()\n",
    "cc3d_sim.start()"
   ]
  },
  {
   "cell_type": "markdown",
   "id": "d6983b9f",
   "metadata": {},
   "source": [
    "Steering\n",
    "---------\n",
    "\n",
    "Add sliders to adjust adhesion model parameters during simulation execution."
   ]
  },
  {
   "cell_type": "code",
   "execution_count": null,
   "id": "96abc9db",
   "metadata": {},
   "outputs": [],
   "source": [
    "import ipywidgets\n",
    "\n",
    "def cb_factory(cell_type1: str, cell_type2: str, spec):\n",
    "    def _inner(change):\n",
    "        if change['name'] == 'value':\n",
    "            spec[cell_type1][cell_type2].energy = change.new\n",
    "            spec.steer()\n",
    "    return _inner\n",
    "\n",
    "steering_sliders_ext, steering_sliders_int = [], []\n",
    "\n",
    "for ct1 in cell_type_specs.cell_types:\n",
    "    for ct2 in contact_specs.types_specified(ct1):\n",
    "        if ct1 == \"Medium\" or ct2 == \"Medium\":\n",
    "            continue\n",
    "        name = f'External: {ct1}-{ct2}'\n",
    "        try:\n",
    "            value = contact_specs[ct1][ct2].energy\n",
    "        except KeyError:\n",
    "            continue\n",
    "        slider = ipywidgets.FloatSlider(\n",
    "            value=value, \n",
    "            min=0.0, \n",
    "            max=50.0, \n",
    "            step=0.1, \n",
    "            continuous_update=False, \n",
    "            description=name\n",
    "        )\n",
    "        slider.observe(cb_factory(ct1, ct2, contact_specs))\n",
    "        steering_sliders_ext.append(slider)\n",
    "\n",
    "    for ct2 in contact_intern_specs.types_specified(ct1):\n",
    "        if ct1 == \"Medium\" or ct2 == \"Medium\":\n",
    "            continue\n",
    "\n",
    "        name = f'Internal: {ct1}-{ct2}'\n",
    "        try:\n",
    "            value = contact_intern_specs[ct1][ct2].energy\n",
    "        except KeyError:\n",
    "            continue\n",
    "        slider = ipywidgets.FloatSlider(\n",
    "            value=value, \n",
    "            min=0.0, \n",
    "            max=50.0, \n",
    "            step=0.1, \n",
    "            continuous_update=False, \n",
    "            description=name\n",
    "        )\n",
    "        slider.observe(cb_factory(ct1, ct2, contact_intern_specs))\n",
    "        steering_sliders_int.append(slider)"
   ]
  },
  {
   "cell_type": "markdown",
   "id": "e6117582",
   "metadata": {},
   "source": [
    "Visualization\n",
    "--------------\n",
    "\n",
    "Show a single frame to visualize simulation data as it is generated and all steering widgets. To better visualize cellular compartments, plot cluster boundaries instead of cell boundaries. "
   ]
  },
  {
   "cell_type": "code",
   "execution_count": null,
   "id": "691fc50c",
   "metadata": {},
   "outputs": [],
   "source": [
    "from IPython.display import display\n",
    "\n",
    "frame = cc3d_sim.visualize()\n",
    "frame.frame.cell_borders_on = False\n",
    "frame.frame.cluster_borders_on = True\n",
    "\n",
    "frame.control_panel()\n",
    "frame.show()\n",
    "display(ipywidgets.HBox([ipywidgets.VBox(steering_sliders_ext), ipywidgets.VBox(steering_sliders_int)]))\n",
    "display(cc3d_sim.jupyter_run_button())"
   ]
  }
 ],
 "metadata": {
  "kernelspec": {
   "display_name": "Python 3 (ipykernel)",
   "language": "python",
   "name": "python3"
  },
  "language_info": {
   "codemirror_mode": {
    "name": "ipython",
    "version": 3
   },
   "file_extension": ".py",
   "mimetype": "text/x-python",
   "name": "python",
   "nbconvert_exporter": "python",
   "pygments_lexer": "ipython3",
   "version": "3.7.13"
  }
 },
 "nbformat": 4,
 "nbformat_minor": 5
}
